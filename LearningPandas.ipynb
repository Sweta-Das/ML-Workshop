{
  "nbformat": 4,
  "nbformat_minor": 0,
  "metadata": {
    "colab": {
      "provenance": [],
      "authorship_tag": "ABX9TyNk7BbX6R3EhenbY70275cd",
      "include_colab_link": true
    },
    "kernelspec": {
      "name": "python3",
      "display_name": "Python 3"
    },
    "language_info": {
      "name": "python"
    }
  },
  "cells": [
    {
      "cell_type": "markdown",
      "metadata": {
        "id": "view-in-github",
        "colab_type": "text"
      },
      "source": [
        "<a href=\"https://colab.research.google.com/github/Sweta-Das/ML-Workshop/blob/main/LearningPandas.ipynb\" target=\"_parent\"><img src=\"https://colab.research.google.com/assets/colab-badge.svg\" alt=\"Open In Colab\"/></a>"
      ]
    },
    {
      "cell_type": "markdown",
      "source": [
        "### Creating a dataset. It creates a dataframe from 2 series."
      ],
      "metadata": {
        "id": "XodOKHAO0ACo"
      }
    },
    {
      "cell_type": "code",
      "execution_count": null,
      "metadata": {
        "id": "T-Epy3CpJiaQ",
        "colab": {
          "base_uri": "https://localhost:8080/"
        },
        "outputId": "68e1af18-5d19-40d1-8a3d-f0f9b1b8e296"
      },
      "outputs": [
        {
          "output_type": "stream",
          "name": "stdout",
          "text": [
            "     cars  passing\n",
            "0     BMW        3\n",
            "1    Ford        6\n",
            "2     Kia        8\n",
            "3  Maruti        2\n"
          ]
        }
      ],
      "source": [
        "import pandas\n",
        "\n",
        "mydataset = {\n",
        "    'cars': ['BMW', 'Ford', 'Kia', 'Maruti'],\n",
        "    'passing': [3, 6, 8, 2]\n",
        "}\n",
        "\n",
        "var = pandas.DataFrame(mydataset)\n",
        "print(var)"
      ]
    },
    {
      "cell_type": "markdown",
      "source": [
        "### Retrieving a single element using index label value.\n",
        "### Find the output."
      ],
      "metadata": {
        "id": "qai5Pow70l5P"
      }
    },
    {
      "cell_type": "code",
      "source": [
        "import pandas as pd\n",
        "s = pd.Series([1,2,3,4,5]) # without indexing explicitly\n",
        "print(s)\n",
        "s = pd.Series([1,2,3,4,5], index = ['a','b','c','d','e']) # indexing explicitly\n",
        "\n",
        "print(s)\n",
        "print(s['a']) # accessing data through index(labels)"
      ],
      "metadata": {
        "colab": {
          "base_uri": "https://localhost:8080/"
        },
        "id": "SFap8g9N0o7e",
        "outputId": "a9f02aba-05f5-4b1b-d732-1d4621b8e8e2"
      },
      "execution_count": null,
      "outputs": [
        {
          "output_type": "stream",
          "name": "stdout",
          "text": [
            "0    1\n",
            "1    2\n",
            "2    3\n",
            "3    4\n",
            "4    5\n",
            "dtype: int64\n",
            "a    1\n",
            "b    2\n",
            "c    3\n",
            "d    4\n",
            "e    5\n",
            "dtype: int64\n",
            "1\n"
          ]
        }
      ]
    },
    {
      "cell_type": "markdown",
      "source": [
        "### Checking the pandas version"
      ],
      "metadata": {
        "id": "VBOvBI4o1Q6p"
      }
    },
    {
      "cell_type": "code",
      "source": [
        "import pandas as pd\n",
        "\n",
        "print(pd.__version__)"
      ],
      "metadata": {
        "colab": {
          "base_uri": "https://localhost:8080/"
        },
        "id": "llz2CIY81UrU",
        "outputId": "75586220-18af-4383-ccb7-6ea1cd524f54"
      },
      "execution_count": null,
      "outputs": [
        {
          "output_type": "stream",
          "name": "stdout",
          "text": [
            "1.4.4\n"
          ]
        }
      ]
    },
    {
      "cell_type": "code",
      "source": [
        "# Checking if pandas series can hold data of any type\n",
        "a = pd.Series(['box', 2, 'cat', 'c', 6.70])\n",
        "print(a)"
      ],
      "metadata": {
        "colab": {
          "base_uri": "https://localhost:8080/"
        },
        "id": "gC2Ga4Oj3juI",
        "outputId": "fb0ac34f-f061-479a-f8c9-9d10a1a48f11"
      },
      "execution_count": null,
      "outputs": [
        {
          "output_type": "stream",
          "name": "stdout",
          "text": [
            "0    box\n",
            "1      2\n",
            "2    cat\n",
            "3      c\n",
            "4    6.7\n",
            "dtype: object\n"
          ]
        }
      ]
    },
    {
      "cell_type": "code",
      "source": [
        "# Constructing series from a dictionary data with specified index.\n",
        "\n",
        "calories = {'day-1': 300, 'day-2': 420, 'day-3': 500, 'day-4': 650}\n",
        "\n",
        "# without indexing; key behaves as index\n",
        "var = pd.Series(calories)\n",
        "print(var)\n",
        "\n",
        "\n",
        "# after indexing; Series is reindexed and give NaN result.\n",
        "var1 = pd.Series(calories, index = ['i','j','k','l'])\n",
        "print(var1)\n",
        "\n",
        "\n",
        "# if indexing is done with the same key value\n",
        "var = pd.Series(data=calories, index = ['day-1', 'day-2', 'day-3', 'day-4'])\n",
        "print(var)"
      ],
      "metadata": {
        "colab": {
          "base_uri": "https://localhost:8080/"
        },
        "id": "FDvp4LcD60fr",
        "outputId": "01992d97-bac8-4600-fee3-0e9236f82f32"
      },
      "execution_count": null,
      "outputs": [
        {
          "output_type": "stream",
          "name": "stdout",
          "text": [
            "day-1    300\n",
            "day-2    420\n",
            "day-3    500\n",
            "day-4    650\n",
            "dtype: int64\n",
            "i   NaN\n",
            "j   NaN\n",
            "k   NaN\n",
            "l   NaN\n",
            "dtype: float64\n",
            "day-1    300\n",
            "day-2    420\n",
            "day-3    500\n",
            "day-4    650\n",
            "dtype: int64\n"
          ]
        }
      ]
    },
    {
      "cell_type": "markdown",
      "source": [
        "### Locate Attribute "
      ],
      "metadata": {
        "id": "vw3MqwX5XFEr"
      }
    },
    {
      "cell_type": "code",
      "source": [
        "# Creating a dataframe first\n",
        "import pandas as pd\n",
        "data = {\"Cars\": ['BMW', 'Maruti', 'Kia', 'Hyundai', 'Ford'],\n",
        "        \"Price\": ['1C', '2.25L', '5-6L', '4-5L','10-11L']}\n",
        "\n",
        "df = pd.DataFrame(data)\n",
        "\n",
        "print(df)\n",
        "\n",
        "# Locating row 0 in the dataframe\n",
        "print(df.loc[0]) # its output is Pandas series\n",
        "\n",
        "# Locating row 0 & 1 in the dataframe\n",
        "print(df.loc[[0,1]]) # its output is Pandas DataFrame\n",
        "\n",
        "# Checking for more rows\n",
        "print(df.loc[[1,2,3]])"
      ],
      "metadata": {
        "colab": {
          "base_uri": "https://localhost:8080/"
        },
        "id": "4L38uSmdXJxc",
        "outputId": "59ba97bd-d1e9-4bd8-85b3-c30678f16b06"
      },
      "execution_count": null,
      "outputs": [
        {
          "output_type": "stream",
          "name": "stdout",
          "text": [
            "      Cars   Price\n",
            "0      BMW      1C\n",
            "1   Maruti   2.25L\n",
            "2      Kia    5-6L\n",
            "3  Hyundai    4-5L\n",
            "4     Ford  10-11L\n",
            "Cars     BMW\n",
            "Price     1C\n",
            "Name: 0, dtype: object\n",
            "     Cars  Price\n",
            "0     BMW     1C\n",
            "1  Maruti  2.25L\n",
            "      Cars  Price\n",
            "1   Maruti  2.25L\n",
            "2      Kia   5-6L\n",
            "3  Hyundai   4-5L\n"
          ]
        }
      ]
    },
    {
      "cell_type": "markdown",
      "source": [
        "### Locating Named Indexes"
      ],
      "metadata": {
        "id": "IQiUkNguZD5U"
      }
    },
    {
      "cell_type": "code",
      "source": [
        "# Creating a dataframe first\n",
        "import pandas as pd\n",
        "data = {\"Cars\": ['BMW', 'Maruti', 'Kia', 'Hyundai', 'Ford'],\n",
        "        \"Price\": ['1C', '2.25L', '5-6L', '4-5L','10-11L']}\n",
        "\n",
        "df = pd.DataFrame(data, index=['ME','LE','LM','AE','MM'])\n",
        "\n",
        "print(df)\n",
        "\n",
        "# Locating row with the named index\n",
        "print(df.loc['LE']) # Gives Pandas series as output\n",
        "\n",
        "print(df.loc[['LE', 'AE', 'ME']])"
      ],
      "metadata": {
        "colab": {
          "base_uri": "https://localhost:8080/"
        },
        "id": "Q4wJw8a2ZIWt",
        "outputId": "c7a208cf-ac08-4642-aeea-a033b87b49e2"
      },
      "execution_count": null,
      "outputs": [
        {
          "output_type": "stream",
          "name": "stdout",
          "text": [
            "       Cars   Price\n",
            "ME      BMW      1C\n",
            "LE   Maruti   2.25L\n",
            "LM      Kia    5-6L\n",
            "AE  Hyundai    4-5L\n",
            "MM     Ford  10-11L\n",
            "Cars     Maruti\n",
            "Price     2.25L\n",
            "Name: LE, dtype: object\n",
            "       Cars  Price\n",
            "LE   Maruti  2.25L\n",
            "AE  Hyundai   4-5L\n",
            "ME      BMW     1C\n"
          ]
        }
      ]
    },
    {
      "cell_type": "markdown",
      "source": [
        "### Loading csv files into dataframe"
      ],
      "metadata": {
        "id": "pOXC9x5KasUb"
      }
    },
    {
      "cell_type": "code",
      "source": [
        "import pandas as pd\n",
        "\n",
        "df = pd.read_csv('data.csv')\n",
        "\n",
        "print(df) # Directly printing the dataset will only return 1st 5 rows and the last 5 rows.\n",
        "\n",
        "print(df.to_string()) # it'll display the entire dataset\n"
      ],
      "metadata": {
        "id": "wIKIWWJCazyc"
      },
      "execution_count": null,
      "outputs": []
    },
    {
      "cell_type": "markdown",
      "source": [
        "### Finding max rows present in our system."
      ],
      "metadata": {
        "id": "VUSd-Rr9be0B"
      }
    },
    {
      "cell_type": "code",
      "source": [
        "import pandas as pd\n",
        "\n",
        "print(pd.options.display.max_rows)\n",
        "\n",
        "# Increasing the max number of rows to display the entire dataframe\n",
        "\n",
        "pd.options.display.max_rows = 10000\n",
        "\n",
        "print(pd.options.display.max_rows)"
      ],
      "metadata": {
        "colab": {
          "base_uri": "https://localhost:8080/"
        },
        "id": "PtuVWv6IbkWn",
        "outputId": "9b0a137e-9d8a-4f3c-81a1-9cc297c6be4d"
      },
      "execution_count": null,
      "outputs": [
        {
          "output_type": "stream",
          "name": "stdout",
          "text": [
            "60\n",
            "10000\n"
          ]
        }
      ]
    },
    {
      "cell_type": "markdown",
      "source": [
        "### Reading JSON file."
      ],
      "metadata": {
        "id": "a8DB2SkAcyVY"
      }
    },
    {
      "cell_type": "code",
      "source": [
        "import pandas as pd\n",
        "\n",
        "# df = pd.read_json('content/Data.json')\n",
        "\n",
        "print(df)\n",
        "\n",
        "print(df.to_string())"
      ],
      "metadata": {
        "id": "gtU79BPkc25u"
      },
      "execution_count": null,
      "outputs": []
    },
    {
      "cell_type": "markdown",
      "source": [
        "### Dictionary as JSON\n",
        "### If JSON code is not in a file, but in a Python dictionary, we can directly load it into a dataframe."
      ],
      "metadata": {
        "id": "FGklpvKnl7pP"
      }
    },
    {
      "cell_type": "code",
      "source": [
        "\n",
        "import pandas as pd\n",
        "\n",
        "data = {\n",
        "  \"Duration\":{\n",
        "    \"0\":60,\n",
        "    \"1\":60,\n",
        "    \"2\":60,\n",
        "    \"3\":45,\n",
        "    \"4\":45,\n",
        "    \"5\":60\n",
        "  },\n",
        "  \"Pulse\":{\n",
        "    \"0\":110,\n",
        "    \"1\":117,\n",
        "    \"2\":103,\n",
        "    \"3\":109,\n",
        "    \"4\":117,\n",
        "    \"5\":102\n",
        "  },\n",
        "  \"Maxpulse\":{\n",
        "    \"0\":130,\n",
        "    \"1\":145,\n",
        "    \"2\":135,\n",
        "    \"3\":175,\n",
        "    \"4\":148,\n",
        "    \"5\":127\n",
        "  },\n",
        "  \"Calories\":{\n",
        "    \"0\":409,\n",
        "    \"1\":479,\n",
        "    \"2\":340,\n",
        "    \"3\":282,\n",
        "    \"4\":406,\n",
        "    \"5\":300\n",
        "  }\n",
        "}\n",
        "\n",
        "df = pd.DataFrame(data)\n",
        "\n",
        "print(df) "
      ],
      "metadata": {
        "colab": {
          "base_uri": "https://localhost:8080/"
        },
        "id": "YyvEz3xxlxG6",
        "outputId": "ea6752f0-25ce-45a0-945d-304ec85d585c"
      },
      "execution_count": null,
      "outputs": [
        {
          "output_type": "stream",
          "name": "stdout",
          "text": [
            "   Duration  Pulse  Maxpulse  Calories\n",
            "0        60    110       130       409\n",
            "1        60    117       145       479\n",
            "2        60    103       135       340\n",
            "3        45    109       175       282\n",
            "4        45    117       148       406\n",
            "5        60    102       127       300\n"
          ]
        }
      ]
    },
    {
      "cell_type": "markdown",
      "source": [
        "### Viewing the data: head()"
      ],
      "metadata": {
        "id": "j-oEJaUYmPxj"
      }
    },
    {
      "cell_type": "code",
      "source": [
        "import pandas as pd\n",
        "\n",
        "df = pd.read_csv('data.csv')\n",
        "\n",
        "#print(df)\n",
        "\n",
        "print(df.head()) # views top 5 rows\n",
        "print(df.tail()) # views last 5 rows\n",
        "\n",
        "print(df.info()) # gives more insight about data"
      ],
      "metadata": {
        "colab": {
          "base_uri": "https://localhost:8080/"
        },
        "id": "AoZbv3HTmXYa",
        "outputId": "426a23fc-7fad-4523-e344-4c9f9718fbd6"
      },
      "execution_count": null,
      "outputs": [
        {
          "output_type": "stream",
          "name": "stdout",
          "text": [
            "   Duration  Pulse  Maxpulse  Calories\n",
            "0        60    110       130     409.1\n",
            "1        60    117       145     479.0\n",
            "2        60    103       135     340.0\n",
            "3        45    109       175     282.4\n",
            "4        45    117       148     406.0\n",
            "     Duration  Pulse  Maxpulse  Calories\n",
            "164        60    105       140     290.8\n",
            "165        60    110       145     300.0\n",
            "166        60    115       145     310.2\n",
            "167        75    120       150     320.4\n",
            "168        75    125       150     330.4\n",
            "<class 'pandas.core.frame.DataFrame'>\n",
            "RangeIndex: 169 entries, 0 to 168\n",
            "Data columns (total 4 columns):\n",
            " #   Column    Non-Null Count  Dtype  \n",
            "---  ------    --------------  -----  \n",
            " 0   Duration  169 non-null    int64  \n",
            " 1   Pulse     169 non-null    int64  \n",
            " 2   Maxpulse  169 non-null    int64  \n",
            " 3   Calories  164 non-null    float64\n",
            "dtypes: float64(1), int64(3)\n",
            "memory usage: 5.4 KB\n",
            "None\n"
          ]
        }
      ]
    },
    {
      "cell_type": "markdown",
      "source": [
        "## Data Cleaning"
      ],
      "metadata": {
        "id": "64wVnY-6n7B0"
      }
    },
    {
      "cell_type": "markdown",
      "source": [
        "### Cleaning empty cells"
      ],
      "metadata": {
        "id": "xOZ0fRafooha"
      }
    },
    {
      "cell_type": "code",
      "source": [
        "import pandas as pd\n",
        "\n",
        "df = pd.read_csv('data.csv')\n",
        "\n",
        "print(df.head())"
      ],
      "metadata": {
        "colab": {
          "base_uri": "https://localhost:8080/"
        },
        "id": "YFtHAWYJorx3",
        "outputId": "0ac300d9-19e2-4674-a92f-27aaaefe7853"
      },
      "execution_count": null,
      "outputs": [
        {
          "output_type": "stream",
          "name": "stdout",
          "text": [
            "   Duration  Pulse  Maxpulse  Calories\n",
            "0        60    110       130     409.1\n",
            "1        60    117       145     479.0\n",
            "2        60    103       135     340.0\n",
            "3        45    109       175     282.4\n",
            "4        45    117       148     406.0\n"
          ]
        }
      ]
    },
    {
      "cell_type": "markdown",
      "source": [
        "### # Removing rows that contain empty cells"
      ],
      "metadata": {
        "id": "HEP4Eg76qVv-"
      }
    },
    {
      "cell_type": "code",
      "source": [
        "# Removing rows that contain empty cells\n",
        "print(df.to_string())\n",
        "\n",
        "new_df = df.dropna() # dropna() returns a new dataframe without changing the original\n",
        "print(new_df.to_string())"
      ],
      "metadata": {
        "id": "T0QyLSlso-7d"
      },
      "execution_count": null,
      "outputs": []
    },
    {
      "cell_type": "code",
      "source": [
        "# Removing rows that contain empty cells\n",
        "\n",
        "df.dropna(inplace = True) # this'll change the original dataset & not return a new dataset\n",
        "print(df.to_string())"
      ],
      "metadata": {
        "id": "86c2_265p0MZ"
      },
      "execution_count": null,
      "outputs": []
    },
    {
      "cell_type": "markdown",
      "source": [
        "### # Replacing empty values of cells by inserting new values"
      ],
      "metadata": {
        "id": "5DIiNgqtqZqv"
      }
    },
    {
      "cell_type": "code",
      "source": [
        "# Replacing empty values of cells\n",
        "import pandas as pd\n",
        "\n",
        "df = pd.read_csv('data.csv')\n",
        "\n",
        "new_df = df.fillna(130, inplace = True)\n",
        "print(new_df)"
      ],
      "metadata": {
        "colab": {
          "base_uri": "https://localhost:8080/"
        },
        "id": "s9kjmKMYqfbN",
        "outputId": "c00e7add-cbf9-480b-9bfc-6f64de59a6b6"
      },
      "execution_count": null,
      "outputs": [
        {
          "output_type": "stream",
          "name": "stdout",
          "text": [
            "None\n"
          ]
        }
      ]
    },
    {
      "cell_type": "code",
      "source": [
        "# Replacing only for specified columns\n",
        "df['Calories'].fillna(130, inplace = True)\n",
        "print(df)"
      ],
      "metadata": {
        "id": "LjrryFKbrP9V"
      },
      "execution_count": null,
      "outputs": []
    },
    {
      "cell_type": "markdown",
      "source": [
        "### # Replacing empty values using mean, median or mode"
      ],
      "metadata": {
        "id": "r4-NwFsWvG3v"
      }
    },
    {
      "cell_type": "code",
      "source": [
        "# Replacing empty values using mean\n",
        "df = pd.read_csv('data.csv')\n",
        "\n",
        "x = df['Calories'].mean()\n",
        "df['Calories'].fillna(x, inplace = True)\n",
        "print(df)"
      ],
      "metadata": {
        "id": "88_W8-wLvMVM"
      },
      "execution_count": null,
      "outputs": []
    },
    {
      "cell_type": "code",
      "source": [
        "# Replacing empty values using median\n",
        "df = pd.read_csv('data.csv')\n",
        "\n",
        "x = df['Calories'].median()\n",
        "df['Calories'].fillna(x, inplace = True)\n",
        "print(df)"
      ],
      "metadata": {
        "id": "8Dyv7o1Bvk3N"
      },
      "execution_count": null,
      "outputs": []
    },
    {
      "cell_type": "code",
      "source": [
        "# Replacing empty values using mode\n",
        "df = pd.read_csv('data.csv')\n",
        "\n",
        "x = df['Calories'].mode()[0]\n",
        "df['Calories'].fillna(x, inplace = True)\n",
        "print(df)"
      ],
      "metadata": {
        "id": "JXhbl3TqwJBc"
      },
      "execution_count": null,
      "outputs": []
    },
    {
      "cell_type": "markdown",
      "source": [
        "### # Cleaning Data of Wrong Format"
      ],
      "metadata": {
        "id": "uvGY4G8xwfMQ"
      }
    },
    {
      "cell_type": "code",
      "source": [
        "df = pd.read_csv('data.csv')\n",
        "\n",
        "print(df)\n",
        "\n",
        "# Say we've a dataset with date format\n",
        "df['Date'] = pd.to_datetime(df['Date']) # converting all the values in Date column into date format\n"
      ],
      "metadata": {
        "id": "GKI80OsXwjxl"
      },
      "execution_count": null,
      "outputs": []
    },
    {
      "cell_type": "markdown",
      "source": [
        "### # Cleaning wrong data"
      ],
      "metadata": {
        "id": "mxTJN1P4zF4o"
      }
    },
    {
      "cell_type": "code",
      "source": [
        "# Locating and fixing \n",
        "\n",
        "df = pd.read_csv('data.csv')\n",
        "\n",
        "# print(df)\n",
        "\n",
        "df.loc[17, 'Calories'] = 300.0 # locate 17th index of Calories column and replace its value with 300.0\n",
        "print(df)"
      ],
      "metadata": {
        "id": "vrvsvi1rzNUR"
      },
      "execution_count": null,
      "outputs": []
    },
    {
      "cell_type": "code",
      "source": [
        "# Locating and fixing \n",
        "\n",
        "# If pulse is less than 100, set it to 100:\n",
        "for x in df.index:\n",
        "  if df.loc[x, 'Pulse'] < 100:\n",
        "    df.loc[x, 'Pulse'] = 100\n",
        "\n",
        "print(df)"
      ],
      "metadata": {
        "id": "7nuWRubU0R2o"
      },
      "execution_count": null,
      "outputs": []
    },
    {
      "cell_type": "code",
      "source": [
        "# Locating and removing rows with wrong data\n",
        "\n",
        "for x in df.index:\n",
        "  if df.loc[x, 'Calories'] == 'NaN':\n",
        "    df.drop(x, inplace = True)\n",
        "\n",
        "print(df)"
      ],
      "metadata": {
        "id": "XfK-eTAz01JX"
      },
      "execution_count": null,
      "outputs": []
    },
    {
      "cell_type": "markdown",
      "source": [
        "## Discovering Duplicates"
      ],
      "metadata": {
        "id": "CmiArX8Z1X_H"
      }
    },
    {
      "cell_type": "code",
      "source": [
        "print(df.duplicated()) # False = not a duplicate & True = duplicate"
      ],
      "metadata": {
        "id": "0QK0Dsrb1fVg"
      },
      "execution_count": null,
      "outputs": []
    },
    {
      "cell_type": "code",
      "source": [
        "# Removing duplicates\n",
        "df.drop_duplicates() # removes duplicates and produce a new dataframe\n",
        "df.drop_duplicates(inplace = True) # removes duplicates from the same dataframe\n",
        "\n",
        "print(df)"
      ],
      "metadata": {
        "id": "3HxyYFd-1xDD"
      },
      "execution_count": null,
      "outputs": []
    },
    {
      "cell_type": "markdown",
      "source": [
        "## Data Correlations"
      ],
      "metadata": {
        "id": "yO-Ksrdc2sH5"
      }
    },
    {
      "cell_type": "code",
      "source": [
        "import pandas as pd\n",
        "\n",
        "df = pd.read_csv('data.csv')\n",
        "\n",
        "# print(df.head())\n",
        "\n",
        "print(df.corr()) # Finding relationship between columns; corr() ignores non-numeric columns"
      ],
      "metadata": {
        "colab": {
          "base_uri": "https://localhost:8080/"
        },
        "id": "dVMUnqqy2wCE",
        "outputId": "b1472526-549f-4051-8995-ea13f005613f"
      },
      "execution_count": null,
      "outputs": [
        {
          "output_type": "stream",
          "name": "stdout",
          "text": [
            "   Duration  Pulse  Maxpulse  Calories\n",
            "0        60    110       130     409.1\n",
            "1        60    117       145     479.0\n",
            "2        60    103       135     340.0\n",
            "3        45    109       175     282.4\n",
            "4        45    117       148     406.0\n",
            "          Duration     Pulse  Maxpulse  Calories\n",
            "Duration  1.000000 -0.155408  0.009403  0.922717\n",
            "Pulse    -0.155408  1.000000  0.786535  0.025121\n",
            "Maxpulse  0.009403  0.786535  1.000000  0.203813\n",
            "Calories  0.922717  0.025121  0.203813  1.000000\n"
          ]
        }
      ]
    },
    {
      "cell_type": "markdown",
      "source": [
        "## Plotting"
      ],
      "metadata": {
        "id": "oUeLaXoI5WiI"
      }
    },
    {
      "cell_type": "code",
      "source": [
        "import matplotlib.pyplot as plt\n",
        "\n",
        "df = pd.read_csv('data.csv')\n",
        "print(df.head())\n",
        "\n",
        "df.plot(kind = 'scatter', x = 'Duration', y = 'Maxpulse')\n",
        "\n",
        "plt.show()\n",
        "\n",
        "df.plot(kind = 'hist', x = 'Pulse', y = 'Maxpulse')\n",
        "plt.show()"
      ],
      "metadata": {
        "colab": {
          "base_uri": "https://localhost:8080/",
          "height": 666
        },
        "id": "_TtfXy5O5YIR",
        "outputId": "1daca3e0-9655-4e84-c223-aa66c88fcb71"
      },
      "execution_count": null,
      "outputs": [
        {
          "output_type": "stream",
          "name": "stdout",
          "text": [
            "   Duration  Pulse  Maxpulse  Calories\n",
            "0        60    110       130     409.1\n",
            "1        60    117       145     479.0\n",
            "2        60    103       135     340.0\n",
            "3        45    109       175     282.4\n",
            "4        45    117       148     406.0\n"
          ]
        },
        {
          "output_type": "stream",
          "name": "stderr",
          "text": [
            "/usr/local/lib/python3.9/dist-packages/pandas/plotting/_matplotlib/core.py:1114: UserWarning: No data for colormapping provided via 'c'. Parameters 'cmap' will be ignored\n",
            "  scatter = ax.scatter(\n"
          ]
        },
        {
          "output_type": "display_data",
          "data": {
            "text/plain": [
              "<Figure size 432x288 with 1 Axes>"
            ],
            "image/png": "[encoded data removed]"
          },
          "metadata": {
            "needs_background": "light"
          }
        },
        {
          "output_type": "display_data",
          "data": {
            "text/plain": [
              "<Figure size 432x288 with 1 Axes>"
            ],
            "image/png": "[encoded data removed]"
          },
          "metadata": {
            "needs_background": "light"
          }
        }
      ]
    },
    {
      "cell_type": "markdown",
      "source": [
        "## Renaming "
      ],
      "metadata": {
        "id": "B9DDksVBEpae"
      }
    },
    {
      "cell_type": "code",
      "source": [
        "# Renaming \"Calories\" with \"Burned Calories\"\n",
        "\n",
        "df = pd.read_csv('data.csv')\n",
        "print(df.head())\n",
        "\n",
        "df.rename(columns = {'Calories':'Burned_Calories'})\n",
        "print(df.head())"
      ],
      "metadata": {
        "colab": {
          "base_uri": "https://localhost:8080/"
        },
        "id": "ow7j81kZEuDY",
        "outputId": "13a45052-a8fc-409b-8e39-63bae0350a62"
      },
      "execution_count": null,
      "outputs": [
        {
          "output_type": "stream",
          "name": "stdout",
          "text": [
            "   Duration  Pulse  Maxpulse  Calories\n",
            "0        60    110       130     409.1\n",
            "1        60    117       145     479.0\n",
            "2        60    103       135     340.0\n",
            "3        45    109       175     282.4\n",
            "4        45    117       148     406.0\n",
            "   Duration  Pulse  Maxpulse  Calories\n",
            "0        60    110       130     409.1\n",
            "1        60    117       145     479.0\n",
            "2        60    103       135     340.0\n",
            "3        45    109       175     282.4\n",
            "4        45    117       148     406.0\n"
          ]
        }
      ]
    },
    {
      "cell_type": "markdown",
      "source": [
        "## Panel in Pandas"
      ],
      "metadata": {
        "id": "4YUhnGL4KYZL"
      }
    },
    {
      "cell_type": "code",
      "source": [
        "# Creating an empty panel from 3D ndarray\n",
        "import pandas as pd\n",
        "import numpy as np\n",
        "\n",
        "data = np.random.rand(2,4,5)\n",
        "# p = pd.Panel(data) # Panel() is deprecated in new version of pandas\n",
        "print(data)"
      ],
      "metadata": {
        "colab": {
          "base_uri": "https://localhost:8080/"
        },
        "id": "vQvheFHzKhgv",
        "outputId": "91e67db0-68fc-40f7-e620-573e61b0dcd8"
      },
      "execution_count": null,
      "outputs": [
        {
          "output_type": "stream",
          "name": "stdout",
          "text": [
            "[[[0.78037783 0.34485331 0.81690644 0.41897559 0.36620692]\n",
            "  [0.56179314 0.63172312 0.37858034 0.01434393 0.39461241]\n",
            "  [0.58819873 0.14366878 0.36487652 0.75648932 0.02290258]\n",
            "  [0.60302484 0.8463082  0.19757821 0.39394644 0.82321214]]\n",
            "\n",
            " [[0.47455042 0.50830963 0.06144737 0.35476438 0.57778575]\n",
            "  [0.34080144 0.35193221 0.47466369 0.7426723  0.25637206]\n",
            "  [0.95606385 0.3583293  0.86118722 0.3579537  0.70853204]\n",
            "  [0.93427204 0.43465983 0.87169122 0.51955986 0.56790988]]]\n"
          ]
        }
      ]
    },
    {
      "cell_type": "code",
      "source": [
        "# Checking output\n",
        "import pandas as pd\n",
        "import numpy as np\n",
        "\n",
        "s = pd.Series(np.random.randn(4))\n",
        "print(s)\n",
        "\n",
        "print(s.ndim) # returns dimension of data structure; given series is 1D data structure.\n",
        "\n",
        "s = pd.Series(np.random.randn(2))\n",
        "print(s.size) # Returns size (length) of the series"
      ],
      "metadata": {
        "id": "3hbY5uGBNe9G",
        "colab": {
          "base_uri": "https://localhost:8080/"
        },
        "outputId": "81d0f224-8a02-4438-ca26-0d1f427b7c7a"
      },
      "execution_count": null,
      "outputs": [
        {
          "output_type": "stream",
          "name": "stdout",
          "text": [
            "0    2.336675\n",
            "1    0.478771\n",
            "2    0.589336\n",
            "3    0.637927\n",
            "dtype: float64\n",
            "1\n",
            "2\n"
          ]
        }
      ]
    }
  ]
}